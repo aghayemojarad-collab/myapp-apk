{
 "cells": [
  {
   "cell_type": "markdown",
   "id": "26ce489f",
   "metadata": {},
   "source": [
    "# 🚀 ساخت APK با Buildozer در Colab\n",
    "\n",
    "این نوت‌بوک برای بیلد اپلیکیشن پایتونی Kivy روی اندروید آماده شده است."
   ]
  },
  {
   "cell_type": "code",
   "execution_count": null,
   "id": "d8a1240b",
   "metadata": {},
   "outputs": [],
   "source": [
    "# --- مرحله 1: نصب پیش‌نیازها ---\n",
    "!sudo apt update\n",
    "!sudo apt install -y git zip unzip openjdk-11-jdk python3-pip\n",
    "!pip install --upgrade pip\n",
    "!pip install buildozer cython==0.29.36\n",
    "\n",
    "import os\n",
    "os.environ[\"BUILDOZER_ALLOW_ROOT\"] = \"1\"\n"
   ]
  },
  {
   "cell_type": "code",
   "execution_count": null,
   "id": "76289320",
   "metadata": {},
   "outputs": [],
   "source": [
    "# --- مرحله 2: آپلود سورس پروژه (myapp.zip) ---\n",
    "from google.colab import files\n",
    "print(\"📂 لطفاً فایل myapp.zip را انتخاب کنید ...\")\n",
    "uploaded = files.upload()"
   ]
  },
  {
   "cell_type": "code",
   "execution_count": null,
   "id": "34d95b9c",
   "metadata": {},
   "outputs": [],
   "source": [
    "# --- مرحله 3: استخراج فایل ZIP ---\n",
    "import zipfile, io, os\n",
    "\n",
    "for fn in uploaded.keys():\n",
    "    if fn.endswith('.zip'):\n",
    "        with zipfile.ZipFile(io.BytesIO(uploaded[fn]), 'r') as zip_ref:\n",
    "            zip_ref.extractall('myapp')\n",
    "        os.chdir('myapp')\n",
    "        print(\"✅ پروژه extract شد و وارد پوشه myapp شدیم.\")\n",
    "    else:\n",
    "        print(\"⚠️ لطفاً پروژه را به صورت zip آپلود کنید.\")"
   ]
  },
  {
   "cell_type": "code",
   "execution_count": null,
   "id": "fa1c2816",
   "metadata": {},
   "outputs": [],
   "source": [
    "# --- مرحله 4: بیلد اپلیکیشن (ممکن است 30-90 دقیقه طول بکشد) ---\n",
    "!buildozer -v android debug"
   ]
  },
  {
   "cell_type": "code",
   "execution_count": null,
   "id": "f00ddd99",
   "metadata": {},
   "outputs": [],
   "source": [
    "# --- مرحله 5: دانلود فایل APK ---\n",
    "from google.colab import files\n",
    "# مسیر ممکن است bin/<appname>-0.1-debug.apk یا similar\n",
    "import glob\n",
    "apks = glob.glob('bin/*.apk')\n",
    "if apks:\n",
    "    print(\"Found APK:\", apks[0])\n",
    "    files.download(apks[0])\n",
    "else:\n",
    "    print(\"هیچ APKی در مسیر bin/ پیدا نشد. خروجی بیلد را چک کنید.\")"
   ]
  }
 ],
 "metadata": {},
 "nbformat": 4,
 "nbformat_minor": 5
}
